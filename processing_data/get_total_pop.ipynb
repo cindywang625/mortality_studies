{
 "cells": [
  {
   "cell_type": "markdown",
   "id": "4906d432-c894-4f5f-919e-8a95dcd32f30",
   "metadata": {},
   "source": [
    "### Calculate total population for each age group\n",
    "\n",
    "Using the population (density) dataset and the ratio of the population for each age group to the total population for each country, we can calulate the population for each age group for each grid cell"
   ]
  },
  {
   "cell_type": "code",
   "execution_count": 52,
   "id": "a4252f92-190d-491b-b41a-42989de11f3d",
   "metadata": {},
   "outputs": [],
   "source": [
    "import geopandas as gpd\n",
    "import xarray as xr\n",
    "from cartopy import crs as ccrs\n",
    "import seaborn as sns; sns.set_theme()\n",
    "import os\n",
    "import fiona\n",
    "import country_converter as coco\n",
    "import dask\n",
    "import dask.array as da\n",
    "import netCDF4 as nc\n",
    "import regionmask\n",
    "from matplotlib import cm\n",
    "import numpy as np\n",
    "from matplotlib import pyplot as plt\n",
    "import country_converter as coco\n",
    "import pyogrio\n",
    "#pyogrio.set_gdal_config_options({\"SHAPE_RESTORE_SHX\": \"YES\"})\n",
    "import pandas as pd\n",
    "from cartopy.util import add_cyclic_point\n",
    "import nc_time_axis\n",
    "import glob\n",
    "import cdo\n",
    "import pandas as pd\n",
    "import cartopy.feature as cfeature\n",
    "import plotly.express as px\n"
   ]
  },
  {
   "cell_type": "code",
   "execution_count": 53,
   "id": "584560ad-dc42-4ad1-91d8-d7a6e676fd11",
   "metadata": {},
   "outputs": [],
   "source": [
    "import warnings\n",
    "warnings.filterwarnings('ignore')"
   ]
  },
  {
   "cell_type": "code",
   "execution_count": 54,
   "id": "d0bb94f5-f36f-46ad-bead-5332a6373223",
   "metadata": {},
   "outputs": [],
   "source": [
    "# read in mortality data that has been verified\n",
    "\n",
    "mortality = pd.read_csv(f'./Mortality_data/IFs/mortality_all_new.csv')\n",
    "#mortality per thousand\n",
    "demographic = xr.open_mfdataset(f'./Mortality_data/demographic/countries/pop_by_age.nc')\n",
    "demo_frac = xr.open_mfdataset(f'./Mortality_data/demographic/countries/pop_by_age_frac.nc')\n",
    "\n",
    "#used to make a mask\n",
    "population = xr.open_mfdataset(f'./Mortality_data/population/SSP2/Total/NetCDF/*.nc', parallel=True, combine='nested')\n"
   ]
  },
  {
   "cell_type": "code",
   "execution_count": 55,
   "id": "0b6244f5-84d2-430a-ae53-d3c236bb63fe",
   "metadata": {},
   "outputs": [],
   "source": [
    "# Gridded Population of the World, Version 4 (GPWv4): National Identifier Grid, Revision 11\n",
    "# can be downloaded from: https://www.earthdata.nasa.gov/data/catalog/sedac-ciesin-sedac-gpwv4-natiden-r11-4.11#:~:text=Description,use%20in%20aggregating%20population%20data.\n",
    "# cited as: Center For International Earth Science Information Network-CIESIN-Columbia University. (2018). Gridded Population of the World, Version 4 (GPWv4): National Identifier Grid, Revision 11 (Version 4.11) [Data set]. Palisades, NY: NASA Socioeconomic Data and Applications Center (SEDAC). https://doi.org/10.7927/H4TD9VDP\n",
    "shapefile_path = \"./Mortality_data/country_borders/gpw_v4_national_identifier_grid_rev11_15_min.shp\"\n",
    "\n",
    "# Read the shapefile\n",
    "gdf = gpd.read_file(shapefile_path)\n",
    "gdf_list = pd.read_csv(f'./Mortality_data/country_borders/gpw_new.csv')"
   ]
  },
  {
   "cell_type": "code",
   "execution_count": 56,
   "id": "6edcb373-b2ac-4a01-9dca-374fac763f5f",
   "metadata": {},
   "outputs": [
    {
     "name": "stdout",
     "output_type": "stream",
     "text": [
      "(1117,)\n"
     ]
    }
   ],
   "source": [
    "#get country mask\n",
    "lon = population['lon']\n",
    "lat = population['lat']\n",
    "print(lat.shape)\n",
    "mask = regionmask.mask_3D_geopandas(gdf,lon,lat)"
   ]
  },
  {
   "cell_type": "code",
   "execution_count": 62,
   "id": "5187c8ef-c93a-497e-b0b7-e82a2b2f025e",
   "metadata": {},
   "outputs": [],
   "source": [
    "age_mapping = {\n",
    "    0: '25to30',\n",
    "    1: '30to35',\n",
    "    2: '35to40',\n",
    "    3: '40to45',\n",
    "    4: '45to50',\n",
    "    5: '50to55',\n",
    "    6: '55to60',\n",
    "    7: '60to65',\n",
    "    8: '65to70',\n",
    "    9: '70to75',\n",
    "    10: '75to80',\n",
    "    11: '80to85'\n",
    "}\n",
    "\n",
    "age_theta = {\n",
    "    '25to29': 0.1585,\n",
    "    '30to34': 0.1577,\n",
    "    '35to39': 0.1570,\n",
    "    '40to44': 0.1558,\n",
    "    '45to49': 0.1532,\n",
    "    '50to54': 0.1499,\n",
    "    '55to59': 0.1462,\n",
    "    '60to64': 0.1421,\n",
    "    '65to69': 0.1374,\n",
    "    '70to74': 0.1319,\n",
    "    '75to79': 0.1253,\n",
    "    '80to84': 0.1141\n",
    "}\n",
    "\n",
    "region_to_iso = dict(enumerate(gdf_list['ISOCODE']))\n",
    "# Replace the integer age coordinates in `combined` with the corresponding strings\n",
    "#combined['age'] = [age_mapping[age] for age in combined.age.values]"
   ]
  },
  {
   "cell_type": "markdown",
   "id": "b0a2d404-6b91-4029-a2db-e06efb7c6924",
   "metadata": {},
   "source": [
    "### Multiply the original population grid with the ratio of the population for each age group to the total population for each country"
   ]
  },
  {
   "cell_type": "code",
   "execution_count": 63,
   "id": "f6a621f0-8633-4369-9900-751b029f7d4a",
   "metadata": {
    "collapsed": true,
    "jupyter": {
     "outputs_hidden": true
    }
   },
   "outputs": [
    {
     "name": "stderr",
     "output_type": "stream",
     "text": [
      "\n",
      "KeyboardInterrupt\n",
      "\n"
     ]
    }
   ],
   "source": [
    "#iso_demographic = np.zeros((12, C.lat.shape[0],C.lon.shape[0]))\n",
    "iso_demographic = np.zeros((12))#, C.lat.shape[0],C.lon.shape[0]))\n",
    "\n",
    "demo_grid = {}\n",
    "\n",
    "for region, iso in region_to_iso.items():\n",
    "    if iso in demographic['region']:\n",
    "        for i in range(12):\n",
    "            #selected_data = demographic[list(age_theta)[i]].sel(region = f'{iso}').values\n",
    "            iso_demographic[i] = demo_frac[list(age_theta)[i]].sel(region = f'{iso}').values\n",
    "        new = iso_demographic[:, np.newaxis, np.newaxis]\n",
    "        new = np.broadcast_to(new, (12, 1117, 2880))\n",
    "        demo_grid[region] = (('age', 'lat', 'lon'), population['ssp2_2020'].expand_dims(dim='age')*new*mask[region].to_numpy()[np.newaxis])\n",
    "    else:\n",
    "        demo_grid[region] = (('age', 'lat', 'lon'), np.full((12, 1117, 2880), np.nan))\n",
    "        "
   ]
  },
  {
   "cell_type": "code",
   "execution_count": null,
   "id": "6ec868e7-261a-42e6-b31b-9b64940c97f7",
   "metadata": {},
   "outputs": [],
   "source": [
    "demo_arrays = []\n",
    "regions = []\n",
    "\n",
    "for region, (dims, data) in demo_grid.items():\n",
    "    demo_arrays.append(data)\n",
    "    regions.append(region)"
   ]
  },
  {
   "cell_type": "code",
   "execution_count": null,
   "id": "8e4fe8ab-d3d2-4244-8834-ea663f520d0f",
   "metadata": {},
   "outputs": [],
   "source": [
    "#BMF = xr.full_like(calcs['AF'], np.nan)\n",
    "demo_pop = np.stack(demo_arrays, axis=0)"
   ]
  },
  {
   "cell_type": "code",
   "execution_count": null,
   "id": "d1f2a397-152e-4d6a-9ffc-99866fc8e47e",
   "metadata": {},
   "outputs": [],
   "source": [
    "ds_p = xr.Dataset(\n",
    "    {\n",
    "        \"demo_pop\": ((\"region\", \"age\", \"lat\", \"lon\"), demo_pop)\n",
    "    },\n",
    "    coords={\n",
    "        \"region\": regions,  # List of region names\n",
    "        \"age\": np.arange(12),  # Example: 12 age groups\n",
    "        \"lat\": C['lat'],  # Example: Latitude coordinates\n",
    "        \"lon\": C['lon'],  # Example: Longitude coordinates\n",
    "    }\n",
    ")"
   ]
  },
  {
   "cell_type": "code",
   "execution_count": null,
   "id": "d8dcb06a-1003-495d-9b6f-8053eb9a252a",
   "metadata": {},
   "outputs": [],
   "source": [
    "combined_pop = ds_p['demo_pop'].fillna(0).sum(dim='region')\n",
    "combined_pop['age'] = [list(age_theta)[age] for age in combined_pop.age.values]"
   ]
  },
  {
   "cell_type": "code",
   "execution_count": null,
   "id": "a0792fdd-29a0-4170-8b1f-f544bc46184b",
   "metadata": {},
   "outputs": [],
   "source": [
    "combined_pop.to_netcdf(f'./processed/2020_demo_frac.nc')"
   ]
  }
 ],
 "metadata": {
  "kernelspec": {
   "display_name": "Python 3 (ipykernel)",
   "language": "python",
   "name": "python3"
  },
  "language_info": {
   "codemirror_mode": {
    "name": "ipython",
    "version": 3
   },
   "file_extension": ".py",
   "mimetype": "text/x-python",
   "name": "python",
   "nbconvert_exporter": "python",
   "pygments_lexer": "ipython3",
   "version": "3.10.13"
  }
 },
 "nbformat": 4,
 "nbformat_minor": 5
}
