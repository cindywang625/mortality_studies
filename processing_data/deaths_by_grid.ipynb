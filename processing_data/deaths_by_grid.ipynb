{
 "cells": [
  {
   "cell_type": "markdown",
   "id": "5ecaddcf-f845-4819-a425-9b771f7c5689",
   "metadata": {},
   "source": [
    "### Calculate deaths from PM2.5"
   ]
  },
  {
   "cell_type": "code",
   "execution_count": 4,
   "id": "2c86b84e-7e3a-4847-9abb-f44c6008ebaf",
   "metadata": {},
   "outputs": [],
   "source": [
    "import geopandas as gpd\n",
    "import xarray as xr\n",
    "from cartopy import crs as ccrs\n",
    "import seaborn as sns; sns.set_theme()\n",
    "import os\n",
    "import fiona\n",
    "import country_converter as coco\n",
    "import dask\n",
    "import dask.array as da\n",
    "import netCDF4 as nc\n",
    "import regionmask\n",
    "from matplotlib import cm\n",
    "import numpy as np\n",
    "from matplotlib import pyplot as plt\n",
    "import country_converter as coco\n",
    "import pyogrio\n",
    "#pyogrio.set_gdal_config_options({\"SHAPE_RESTORE_SHX\": \"YES\"})\n",
    "import pandas as pd\n",
    "from cartopy.util import add_cyclic_point\n",
    "import nc_time_axis\n",
    "import glob\n",
    "import cdo\n",
    "import pandas as pd\n",
    "import cartopy.feature as cfeature\n"
   ]
  },
  {
   "cell_type": "code",
   "execution_count": 5,
   "id": "05547fc4-b145-4cfa-81e1-2011dc1b5db6",
   "metadata": {},
   "outputs": [],
   "source": [
    "import warnings\n",
    "warnings.filterwarnings('ignore')"
   ]
  },
  {
   "cell_type": "code",
   "execution_count": 6,
   "id": "46ab2b0a-758b-4b54-bde4-90d95a267e54",
   "metadata": {},
   "outputs": [],
   "source": [
    "# Gridded Population of the World, Version 4 (GPWv4): National Identifier Grid, Revision 11\n",
    "# can be downloaded from: https://www.earthdata.nasa.gov/data/catalog/sedac-ciesin-sedac-gpwv4-natiden-r11-4.11#:~:text=Description,use%20in%20aggregating%20population%20data.\n",
    "# cited as: Center For International Earth Science Information Network-CIESIN-Columbia University. (2018). Gridded Population of the World, Version 4 (GPWv4): National Identifier Grid, Revision 11 (Version 4.11) [Data set]. Palisades, NY: NASA Socioeconomic Data and Applications Center (SEDAC). https://doi.org/10.7927/H4TD9VDP\n",
    "shapefile_path = \"./gpw-v4-national-identifier-grid-rev11_15_min_asc/gpw_v4_national_identifier_grid_rev11_15_min.shp\"\n",
    "\n",
    "# Read the shapefile\n",
    "gdf = gpd.read_file(shapefile_path)\n",
    "#gdf_list = pd.read_csv(f'./Mortality_data/country_borders/gpw_new.csv')"
   ]
  },
  {
   "cell_type": "code",
   "execution_count": 8,
   "id": "5ba47c08-a0d4-4bc0-ba40-d2eb83bb9ed9",
   "metadata": {},
   "outputs": [],
   "source": [
    "# read in mortality data that has been verified\n",
    "\n",
    "#mortality = xr.open_mfdataset(f'/glade/derecho/scratch/cindywang625/BMR/*.nc', parallel=True, combine='nested', concat_dim='time')['mortality']\n",
    "mortality_ncds_female = xr.open_mfdataset(f'./bmr/NCDS/female/*.nc', parallel=True, combine='nested', concat_dim='time')['mortality']\n",
    "mortality_ncds_male = xr.open_mfdataset(f'./bmr/NCDS/male/*.nc', parallel=True, combine='nested', concat_dim='time')['mortality']\n",
    "\n",
    "mortality_lris_female = xr.open_mfdataset(f'./bmr/LRIS/female/*.nc', parallel=True, combine='nested', concat_dim='time')['mortality']\n",
    "mortality_lris_male = xr.open_mfdataset(f'./bmr/LRIS/male/*.nc', parallel=True, combine='nested', concat_dim='time')['mortality']\n",
    "\n",
    "#mortality_cardio = xr.open_mfdataset(f'/glade/derecho/scratch/cindywang625/BMR/for_o3/cardio/*.nc', parallel=True, combine='nested', concat_dim='time')['mortality']\n",
    "#mortality_resp = xr.open_mfdataset(f'/glade/derecho/scratch/cindywang625/BMR/for_o3/resp/*.nc', parallel=True, combine='nested', concat_dim='time')['mortality']\n",
    "\n",
    "#mortality_og = pd.read_csv(f'./Mortality_data/IFs/mortality_all_new.csv')\n",
    "\n",
    "#mortality per thousand\n",
    "demographic_female = xr.open_mfdataset(f'./demographic/countries/female_2020_demo_frac.nc')['demo_pop']\n",
    "demographic_male = xr.open_mfdataset(f'./demographic/countries/male_2020_demo_frac.nc')['demo_pop']\n",
    "\n",
    "#demographic = demographic.sum(\"age\")\n",
    "\n",
    "#used to make a mask\n",
    "population = xr.open_dataset(f'./population/SSP2/Total/NetCDF/ssp2_2020.nc')\n"
   ]
  },
  {
   "cell_type": "code",
   "execution_count": 9,
   "id": "24eba2e1-20d1-4ca6-82db-647770259f12",
   "metadata": {},
   "outputs": [
    {
     "name": "stdout",
     "output_type": "stream",
     "text": [
      "(1117,)\n"
     ]
    }
   ],
   "source": [
    "#get country mask\n",
    "lon = population['lon']\n",
    "lat = population['lat']\n",
    "print(lat.shape)\n",
    "mask = regionmask.mask_3D_geopandas(gdf,lon,lat)"
   ]
  },
  {
   "cell_type": "code",
   "execution_count": 10,
   "id": "19387aa2-998e-4888-8613-f7b7a6e77355",
   "metadata": {},
   "outputs": [],
   "source": [
    "age_theta = {\n",
    "    '25to29': 0.1585,\n",
    "    '30to34': 0.1577,\n",
    "    '35to39': 0.1570,\n",
    "    '40to44': 0.1558,\n",
    "    '45to49': 0.1532,\n",
    "    '50to54': 0.1499,\n",
    "    '55to59': 0.1462,\n",
    "    '60to64': 0.1421,\n",
    "    '65to69': 0.1374,\n",
    "    '70to74': 0.1319,\n",
    "    '75to79': 0.1253,\n",
    "    '80to84': 0.1141\n",
    "}"
   ]
  },
  {
   "cell_type": "markdown",
   "id": "82e8baff-3410-4a2e-a5c2-68225f084365",
   "metadata": {},
   "source": [
    "### Calculating health impacts associated with air pollution (PM2.5)\n",
    "\n",
    "Calculate mortalities attributed to PM2.5 from noncommunicable diseases and lower respiratory infections (combined) based on epidemiological cohort studies of long-term exposure to PM2.5\n",
    "\n",
    "\\begin{equation}\n",
    "M = BMR \\times P \\times AF\n",
    "\\end{equation}\n",
    "\n",
    "- M = mortality due to PM2.5\n",
    "- BMR = baseline mortality rate\n",
    "- P = exposed population\n",
    "- AF = attributable factor"
   ]
  },
  {
   "cell_type": "markdown",
   "id": "23822de0-3085-4202-924f-2472d3f72376",
   "metadata": {},
   "source": [
    "((mortality_ncds_female* demographic_female) + (mortality_ncds_male* demographic_male)\n",
    "(mortality_lris_female* demographic_female) + (mortality_lris_male* demographic_male))*AF"
   ]
  },
  {
   "cell_type": "code",
   "execution_count": 11,
   "id": "8d6717db-fd70-4274-9736-2e2253c9269c",
   "metadata": {},
   "outputs": [],
   "source": [
    "mortality = ((mortality_ncds_female* (demographic_female.values/1e3))+(mortality_ncds_male* (demographic_male.values/1e3)))+(\n",
    "    (mortality_lris_female* (demographic_female.values/1e3))+(mortality_lris_male* (demographic_male.values/1e3)))\n",
    "\n"
   ]
  },
  {
   "cell_type": "code",
   "execution_count": 51,
   "id": "d291e5d4-0f25-4949-9e75-0c59b8b35caf",
   "metadata": {},
   "outputs": [],
   "source": [
    "#AF = xr.open_mfdataset('/glade/derecho/scratch/cindywang625/RR/003.nc')['RR_base']-xr.open_mfdataset('/glade/derecho/scratch/cindywang625/RR/003.nc')['RR_em']\n",
    "#AF = xr.open_mfdataset('/glade/derecho/scratch/cindywang625/RR/pm245_so4/avg_RR.nc')['RR_diff']\n",
    "ensemble = 'death'#'010'\n",
    "\n",
    "#AF = - xr.open_mfdataset(f'/Volumes/bkup_srm/SRM/RR/SSP245/{ensemble}.nc')['RR_base'][:,5:] + xr.open_mfdataset(f'/Volumes/bkup_srm/SRM/RR/SSP245/{ensemble}.nc')['RR_base'][:,:10].mean(\"time\")\n",
    "#AF = - xr.open_mfdataset(f'/Volumes/bkup_srm/SRM/RR/{ensemble}.nc')['RR_em'] + xr.open_mfdataset(f'/Volumes/bkup_srm/SRM/RR/SSP245/{ensemble}.nc')['RR_base'][:,:10].mean(\"time\")\n",
    "\n",
    "\n",
    "#AF_0 = 1-xr.open_mfdataset(f'/glade/derecho/scratch/cindywang625/RR/SSP245_2030_2039/{ensemble}.nc')['RR_base']\n",
    "AF = 1- xr.open_mfdataset(f'/Volumes/bkup_srm/SRM/RR/ssp245/{ensemble}.nc')['RR_base'][:,5:]#+xr.open_mfdataset('/glade/derecho/scratch/cindywang625/RR/010.nc')['RR_base'][:,0]\n"
   ]
  },
  {
   "cell_type": "code",
   "execution_count": 52,
   "id": "c3d2fb01-1e1d-4a1a-94a9-dfdd259b5bf6",
   "metadata": {},
   "outputs": [],
   "source": [
    "deaths= (AF.transpose('time','age','lat', 'lon'))*mortality[5:].values"
   ]
  },
  {
   "cell_type": "code",
   "execution_count": 53,
   "id": "8db5c834-be5c-4e45-8ec3-4f01bd07b738",
   "metadata": {},
   "outputs": [],
   "source": [
    "deaths_val = deaths.where(deaths != 0, np.nan)\n"
   ]
  },
  {
   "cell_type": "code",
   "execution_count": 54,
   "id": "42cb3432-6f3b-49da-b44f-226c50909dfd",
   "metadata": {},
   "outputs": [],
   "source": [
    "#ensemble = 'deaths_ensemble'\n",
    "#deaths_val.to_netcdf(f'/glade/derecho/scratch/cindywang625/deaths_ozone/arise_2035/by_grid/{ensemble}.nc')\n",
    "#deaths_val.to_netcdf(f'/glade/derecho/scratch/cindywang625/deaths_ozone/arise_ssp/by_grid/{ensemble}.nc')\n",
    "deaths_val.to_netcdf(f'/Volumes/bkup_srm/SRM/deaths/ssp245/by_grid/{ensemble}.nc')\n"
   ]
  },
  {
   "cell_type": "code",
   "execution_count": 50,
   "id": "dcd1c64f-507e-42a3-bb8a-c32769518547",
   "metadata": {},
   "outputs": [
    {
     "name": "stdout",
     "output_type": "stream",
     "text": [
      "Loading ensemble member 001\n",
      "Loading ensemble member 002\n",
      "Loading ensemble member 003\n",
      "Loading ensemble member 004\n",
      "Loading ensemble member 005\n",
      "Loading ensemble member 006\n",
      "Loading ensemble member 007\n",
      "Loading ensemble member 008\n",
      "Loading ensemble member 009\n",
      "Loading ensemble member 010\n"
     ]
    }
   ],
   "source": [
    "num_ensembles = 10\n",
    "for i in range(1, num_ensembles + 1):\n",
    "    ensemble = f'{i:03d}' \n",
    "    print(f'Loading ensemble member {ensemble}')\n",
    "    AF = 1- xr.open_mfdataset(f'/Volumes/bkup_srm/SRM/RR/{ensemble}.nc')['RR_em']\n",
    "    deaths= (AF.transpose('time','age','lat', 'lon'))*mortality[5:].values\n",
    "    deaths_val = deaths.where(deaths != 0, np.nan)\n",
    "\n",
    "    deaths_val.to_netcdf(f'/Volumes/bkup_srm/SRM/deaths/arise/by_grid/{ensemble}.nc')\n",
    "\n",
    "    "
   ]
  },
  {
   "cell_type": "code",
   "execution_count": null,
   "id": "b0979c23-daa2-435e-84c4-0e2669a63717",
   "metadata": {},
   "outputs": [],
   "source": []
  }
 ],
 "metadata": {
  "kernelspec": {
   "display_name": "Python 3 (ipykernel)",
   "language": "python",
   "name": "python3"
  },
  "language_info": {
   "codemirror_mode": {
    "name": "ipython",
    "version": 3
   },
   "file_extension": ".py",
   "mimetype": "text/x-python",
   "name": "python",
   "nbconvert_exporter": "python",
   "pygments_lexer": "ipython3",
   "version": "3.10.16"
  }
 },
 "nbformat": 4,
 "nbformat_minor": 5
}
