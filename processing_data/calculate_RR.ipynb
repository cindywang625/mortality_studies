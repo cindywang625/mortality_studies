{
 "cells": [
  {
   "cell_type": "markdown",
   "id": "58a6e9f8-3aae-4364-a63c-8b0b8ff8ab9a",
   "metadata": {},
   "source": [
    "### Calculate RR using PM2.5\n",
    "\n",
    "This code calculates the RR from Peng et al., 2021 and GEMM parameter estimates from Burnett et al., 2018. \n",
    "\n",
    "RR is calculated for adults >25 using 5-year interval age groups"
   ]
  },
  {
   "cell_type": "code",
   "execution_count": 2,
   "id": "2e3e5f4a-527d-4889-99cb-ae280504578f",
   "metadata": {},
   "outputs": [],
   "source": [
    "import geopandas as gpd\n",
    "import xarray as xr\n",
    "from cartopy import crs as ccrs\n",
    "import seaborn as sns; sns.set_theme()\n",
    "import os\n",
    "import fiona\n",
    "import country_converter as coco\n",
    "import dask\n",
    "import dask.array as da\n",
    "import netCDF4 as nc\n",
    "import regionmask\n",
    "from matplotlib import cm\n",
    "import numpy as np\n",
    "from matplotlib import pyplot as plt\n",
    "import country_converter as coco\n",
    "import pyogrio\n",
    "#pyogrio.set_gdal_config_options({\"SHAPE_RESTORE_SHX\": \"YES\"})\n",
    "import pandas as pd\n",
    "from cartopy.util import add_cyclic_point\n",
    "import nc_time_axis\n",
    "import glob\n",
    "import cdo\n",
    "import pandas as pd\n",
    "import cartopy.feature as cfeature"
   ]
  },
  {
   "cell_type": "code",
   "execution_count": 3,
   "id": "347ae42b-3f7f-43bd-886b-e2bfc2d246ee",
   "metadata": {},
   "outputs": [],
   "source": [
    "import warnings\n",
    "warnings.filterwarnings('ignore')"
   ]
  },
  {
   "cell_type": "code",
   "execution_count": 4,
   "id": "b5a523c2-3869-4306-a0e1-b8c0a6121686",
   "metadata": {},
   "outputs": [
    {
     "name": "stdout",
     "output_type": "stream",
     "text": [
      "Loading ensemble member 001\n",
      "Loading ensemble member 002\n",
      "Loading ensemble member 003\n",
      "Loading ensemble member 004\n",
      "Loading ensemble member 005\n",
      "Loading ensemble member 006\n",
      "Loading ensemble member 007\n",
      "Loading ensemble member 008\n",
      "Loading ensemble member 009\n",
      "Loading ensemble member 010\n"
     ]
    }
   ],
   "source": [
    "num_ensembles = 10\n",
    "var_list = 'PM25'.split()\n",
    "ensembles = {var: [] for var in var_list}\n",
    "# Loop over each ensemble member\n",
    "for i in range(1, num_ensembles + 1):\n",
    "    ensemble_id = f'{i:03d}'  # Format ensemble number as 001, 002, ..., 010\n",
    "    print(f'Loading ensemble member {ensemble_id}')\n",
    "    \n",
    "    # Loop over each variable\n",
    "    for var in var_list:\n",
    "        # Construct the file path\n",
    "        #if var == 'TS':\n",
    "            # Special case for TS (daily data)\n",
    "        #    file_path = f'/glade/campaign/cesm/collections/ARISE-SAI-1.5/b.e21.BW.f09_g17.SSP245-TSMLT-GAUSS-DEFAULT.{ensemble_id}/atm/proc/tseries/day_1/b.e21.BW.f09_g17.SSP245-TSMLT-GAUSS-DEFAULT.{ensemble_id}.cam.h1.TS.*.nc'\n",
    "        file_path = f'/glade/derecho/scratch/cindywang625/regrid_PM25/new/{ensemble_id}.PM25_new.nc'\n",
    "        #file_path = f'/glade/campaign/cesm/collections/ARISE-SAI-1.5/b.e21.BW.f09_g17.SSP245-TSMLT-GAUSS-DEFAULT.{ensemble_id}/atm/proc/tseries/month_1/b.e21.BW.f09_g17.SSP245-TSMLT-GAUSS-DEFAULT.{ensemble_id}.cam.h0.{var}.*.nc'\n",
    "        \n",
    "        # Load the dataset and extract the variable\n",
    "        ds = xr.open_mfdataset(file_path, parallel=True, combine='nested', concat_dim='time')\n",
    "        ensembles[var].append(ds[var])"
   ]
  },
  {
   "cell_type": "code",
   "execution_count": 5,
   "id": "52141176-8ebe-45eb-80d2-62086d568607",
   "metadata": {},
   "outputs": [],
   "source": [
    "average_ensemble = {}\n",
    "for var in var_list:\n",
    "    # Concatenate all ensemble members along a new dimension\n",
    "    combined = xr.concat(ensembles[var], dim='ensemble')\n",
    "    # Calculate the mean over the ensemble dimension\n",
    "    average_ensemble[var] = combined.mean(dim='ensemble')"
   ]
  },
  {
   "cell_type": "code",
   "execution_count": 6,
   "id": "2e2ced33-5b82-4d23-b8f8-28f39fff6279",
   "metadata": {},
   "outputs": [
    {
     "name": "stdout",
     "output_type": "stream",
     "text": [
      "Loading ensemble member 001\n",
      "Loading ensemble member 002\n",
      "Loading ensemble member 003\n",
      "Loading ensemble member 004\n",
      "Loading ensemble member 005\n",
      "Loading ensemble member 006\n",
      "Loading ensemble member 007\n",
      "Loading ensemble member 008\n",
      "Loading ensemble member 009\n",
      "Loading ensemble member 010\n"
     ]
    }
   ],
   "source": [
    "#base_ssp245 = {}\n",
    "base_ssp245 = {var: [] for var in var_list}\n",
    "for i in range(1, num_ensembles + 1):\n",
    "    ensemble_id = f'{i:03d}'  # Format ensemble number as 001, 002, ..., 010\n",
    "    print(f'Loading ensemble member {ensemble_id}')\n",
    "    \n",
    "    # Loop over each variable\n",
    "    for var in var_list:\n",
    "        # Construct the file path\n",
    "        #if var == 'TS':\n",
    "            # Special case for TS (daily data)\n",
    "        #    file_path = f'/glade/campaign/cesm/collections/ARISE-SAI-1.5/b.e21.BW.f09_g17.SSP245-TSMLT-GAUSS-DEFAULT.{ensemble_id}/atm/proc/tseries/day_1/b.e21.BW.f09_g17.SSP245-TSMLT-GAUSS-DEFAULT.{ensemble_id}.cam.h1.TS.*.nc'\n",
    "        file_path = f'/glade/derecho/scratch/cindywang625/regrid_PM25/ssp245/{ensemble_id}.PM25_new.nc'\n",
    "        #file_path = f'/glade/campaign/cesm/collections/ARISE-SAI-1.5/b.e21.BW.f09_g17.SSP245-TSMLT-GAUSS-DEFAULT.{ensemble_id}/atm/proc/tseries/month_1/b.e21.BW.f09_g17.SSP245-TSMLT-GAUSS-DEFAULT.{ensemble_id}.cam.h0.{var}.*.nc'\n",
    "        \n",
    "        # Load the dataset and extract the variable\n",
    "        ds = xr.open_mfdataset(file_path, parallel=True, combine='nested', concat_dim='time')\n",
    "        base_ssp245[var].append(ds[var])"
   ]
  },
  {
   "cell_type": "code",
   "execution_count": 7,
   "id": "1133f4aa-2719-46f0-a986-4b4ca9488b7e",
   "metadata": {},
   "outputs": [],
   "source": [
    "average_ensemble_ssp245 = {}\n",
    "for var in var_list:\n",
    "    # Concatenate all ensemble members along a new dimension\n",
    "    combined = xr.concat(base_ssp245[var], dim='ensemble')\n",
    "    # Calculate the mean over the ensemble dimension\n",
    "    average_ensemble_ssp245[var] = combined.mean(dim='ensemble')"
   ]
  },
  {
   "cell_type": "code",
   "execution_count": 8,
   "id": "4c33ea22-4707-46da-a757-c1d4f5cff843",
   "metadata": {
    "jupyter": {
     "source_hidden": true
    }
   },
   "outputs": [],
   "source": [
    "def global_mean_xarray(ds_XXLL):\n",
    "    \"\"\" \n",
    "    Compute the global mean value of the data.\n",
    "    The data has to have the lat and lon in its dimensions.\n",
    "    Should not include NaN in Inputs.\n",
    "    \n",
    "    Parameters\n",
    "    ----------\n",
    "    ds_XXLL   : xarray with lat and lon. ds_XXLL.lat will be \n",
    "                used for area weight.\n",
    "\n",
    "    Returns\n",
    "    ----------\n",
    "    tmp_XX    : xarray without lat and lon.\n",
    "    \n",
    "    \"\"\"\n",
    "    lat = ds_XXLL.coords['lat']        # readin lat\n",
    "    # global mean\n",
    "    # compute cos(lat) as a weight function\n",
    "    weight_lat = np.cos(np.deg2rad(lat))/np.mean(np.cos(np.deg2rad(lat)))\n",
    "    tmp_XXL = ds_XXLL.mean(dim=['lon'])*weight_lat\n",
    "    tmp_XX  = tmp_XXL.mean(dim=['lat'])\n",
    "    return tmp_XX\n",
    "\n",
    "def weighted_temporal_mean_l(ds, var=None):\n",
    "    \"\"\"\n",
    "    weight by days in each month\n",
    "    \"\"\"\n",
    "    #ds = xr.decode_cf(ds)\n",
    "    # Determine the month length\n",
    "    month_length = ds.time.dt.days_in_month\n",
    "\n",
    "    # Calculate the weights\n",
    "    wgts = month_length.groupby(\"time.year\") / month_length.groupby(\"time.year\").sum()\n",
    "\n",
    "    # Make sure the weights in each year add up to 1\n",
    "    np.testing.assert_allclose(wgts.groupby(\"time.year\").sum(xr.ALL_DIMS), 1.0)\n",
    "\n",
    "    # Subset our dataset for our variable\n",
    "    obs = ds if var is None else ds[var]\n",
    "\n",
    "    # Setup our masking for nan values\n",
    "    cond = obs.isnull()\n",
    "    ones = xr.where(cond, 0.0, 1.0)\n",
    "\n",
    "    # Calculate the numerator\n",
    "    obs_sum = (obs * wgts).resample(time=\"AS\").sum(dim=\"time\")\n",
    "\n",
    "    # Calculate the denominator\n",
    "    ones_out = (ones * wgts).resample(time=\"AS\").sum(dim=\"time\")\n",
    "\n",
    "    # Return the weighted average\n",
    "    return obs_sum / ones_out"
   ]
  },
  {
   "cell_type": "markdown",
   "id": "0b2e293b-d5e6-423c-9a4e-1c3c5eacc16c",
   "metadata": {},
   "source": [
    "## Calculate relative risk (RR) for the different age groups\n",
    "\n",
    "RR of NCDS+LRIs associated with PM2.5 exposure is calculated for adults >=25 years old using 5-year interval age groups\n",
    "\n",
    "According to GEMM, RR of NCDS+LRI is calculated as follows:\n",
    "\n",
    "\\begin{equation}\n",
    "RR(C)=e^{\\frac{\\theta\\times log(\\frac{C}{\\alpha + 1})}{1+e\\frac{C-\\mu}{V}}}, C = max(0, C-2.4)\n",
    "\\end{equation}\n",
    "\n",
    "C is the long-term ambient PM2.5 concentration; $\\theta$, $\\mu$ and $v$ are parameters that determine the shape of RR in GEMM. The parameters are constant across all age groups for NCD+LRI, while $\\theta$ varies by age group."
   ]
  },
  {
   "cell_type": "code",
   "execution_count": 9,
   "id": "01362c75-7ccb-4507-b3d8-f3dd774afe81",
   "metadata": {},
   "outputs": [],
   "source": [
    "#GEMM parameters from Brunett et al.,\n",
    "mu = 15.5\n",
    "alpha = 1.6\n",
    "v = 36.8"
   ]
  },
  {
   "cell_type": "code",
   "execution_count": 10,
   "id": "d55f406b-f676-4d9b-ab53-deda723ed0c1",
   "metadata": {},
   "outputs": [],
   "source": [
    "# The age range are as follows\n",
    "# >25 - 0.1430\n",
    "# Age ranges and their corresponding theta values\n",
    "age_theta = {\n",
    "    '25to30': 0.1585,\n",
    "    '30to35': 0.1577,\n",
    "    '35to40': 0.1570,\n",
    "    '40to45': 0.1558,\n",
    "    '45to50': 0.1532,\n",
    "    '50to55': 0.1499,\n",
    "    '55to60': 0.1462,\n",
    "    '60to65': 0.1421,\n",
    "    '65to70': 0.1374,\n",
    "    '70to75': 0.1319,\n",
    "    '75to80': 0.1253,\n",
    "    '80to85': 0.1141\n",
    "}"
   ]
  },
  {
   "cell_type": "markdown",
   "id": "90edf79d-c546-4764-8b0a-decc722bbf16",
   "metadata": {},
   "source": [
    "## Reiterate for each ensemble member and ensemble average"
   ]
  },
  {
   "cell_type": "code",
   "execution_count": 101,
   "id": "55fc7d2c-96ba-4d2e-adc4-a35d61191a01",
   "metadata": {},
   "outputs": [],
   "source": [
    "# DOUBLE CHECK that time = 35 (2035 to 2069; ens 7 and 8 are run up to 2071)\n",
    "i = 9 #<<<<--- change this for each ensemble i=0 to 9\n",
    "\n",
    "#do it for 2020 for now\n",
    "C_base = weighted_temporal_mean_l(base_ssp245['PM25'][i])[20:-1]*1e9\n",
    "#C_base = weighted_temporal_mean_l(average_ensemble_ssp245['PM25'])[20:-1]*1e9\n",
    "\n",
    "#C = np.maximum(0, C - 2.4)\n",
    "C_em = weighted_temporal_mean_l(ensembles['PM25'][i])[:35]*1e9\n",
    "#C_em = weighted_temporal_mean_l(average_ensemble['PM25'])[:-2]*1e9\n"
   ]
  },
  {
   "cell_type": "code",
   "execution_count": 89,
   "id": "a110b518-965c-488a-a263-4cd688f97a7d",
   "metadata": {},
   "outputs": [],
   "source": [
    "#Precompute common terms\n",
    "log_term_base = np.log10(C_base/(alpha+1))\n",
    "exp_term_base = np.exp(-(C_base-mu)/v)\n",
    "\n",
    "#Precompute common terms\n",
    "log_term_em = np.log10(C_em/(alpha+1))\n",
    "exp_term_em = np.exp(-(C_em-mu)/v)"
   ]
  },
  {
   "cell_type": "code",
   "execution_count": 90,
   "id": "c70e4fd1-0bbc-443a-ab51-ed2b0a4f83c9",
   "metadata": {},
   "outputs": [],
   "source": [
    "# Initialize a blank 3D array for RR\n",
    "num_age_ranges = len(age_theta)\n",
    "RR = np.zeros((num_age_ranges, C_base.shape[1], C_base.shape[2]))\n",
    "RR_val_base = np.zeros((num_age_ranges, C_base.shape[0], C_base.shape[1],C_base.shape[2]))\n",
    "RR_val_em = np.zeros((num_age_ranges, C_base.shape[0], C_base.shape[1],C_base.shape[2]))\n",
    "\n"
   ]
  },
  {
   "cell_type": "code",
   "execution_count": 91,
   "id": "afc22076-e130-4fc6-9183-e6a2aca367fe",
   "metadata": {},
   "outputs": [],
   "source": [
    "calcs = xr.Dataset()\n",
    "calcs.coords['age'] = (('age'), list(age_theta))\n",
    "calcs.coords['time'] = (('time'), C_base['time'].data)\n",
    "\n",
    "calcs.coords['lat']  = (('lat'),C_base.coords['lat'].values)\n",
    "calcs.coords['lon']  = (('lon'),C_base.coords['lon'].values)\n",
    "#calcs['RR']      = (('age','lat','lon'),RR)"
   ]
  },
  {
   "cell_type": "code",
   "execution_count": 92,
   "id": "2e97a096-9e85-4d83-a83e-2b4ebbf677e7",
   "metadata": {},
   "outputs": [],
   "source": [
    "for j in range(C_base['time'].shape[0]):\n",
    "    logged = log_term_base[j]\n",
    "    expped = exp_term_base[j]\n",
    "    for i in range(12):\n",
    "        theta_values = np.array(list(age_theta.values()))[i]\n",
    "        RR[i] = np.exp((theta_values*logged)/(1+expped))\n",
    "        #RR[:,C[j] < 2.4] = 1\n",
    "        #RR[RR<1] = 1\n",
    "        #RR[RR==0] = np.nan\n",
    "        RR_val_base[:,j] = RR"
   ]
  },
  {
   "cell_type": "code",
   "execution_count": 93,
   "id": "9c69b4d1-aada-4128-b4f4-05e5fdf90ed0",
   "metadata": {},
   "outputs": [],
   "source": [
    "for j in range(C_em['time'].shape[0]):\n",
    "    logged = log_term_em[j]\n",
    "    expped = exp_term_em[j]\n",
    "    for i in range(12):\n",
    "        theta_values = np.array(list(age_theta.values()))[i]\n",
    "        RR[i] = np.exp((theta_values*logged)/(1+expped))\n",
    "        #RR[:,C[j] < 2.4] = 1\n",
    "        #RR[RR<1] = 1\n",
    "        #RR[RR==0] = np.nan\n",
    "        RR_val_em[:,j] = RR"
   ]
  },
  {
   "cell_type": "code",
   "execution_count": 94,
   "id": "af5f2dc7-5bff-4f2b-9efc-754465ed0cee",
   "metadata": {},
   "outputs": [],
   "source": [
    "RR_val_base[RR_val_base == 0] = np.nan\n",
    "RR_val_base[RR_val_base<1] =1\n",
    "\n",
    "RR_val_em[RR_val_em == 0] = np.nan\n",
    "RR_val_em[RR_val_em<1] =1"
   ]
  },
  {
   "cell_type": "markdown",
   "id": "14e63400-58d2-4975-91e5-868e27db9b27",
   "metadata": {},
   "source": [
    "RR is calculated separatedly for SSP2-4.5 and the ARISE simulations. But for the calculations, they are subtracted:\n",
    "\n",
    "\\begin{equation}\n",
    " \\Delta RR = \\frac{1}{RR_{base}} - \\frac{1}{RR_{perturb}}\n",
    "\\end{equation}"
   ]
  },
  {
   "cell_type": "code",
   "execution_count": 95,
   "id": "94291017-b83d-401c-8eff-c4891d64b50b",
   "metadata": {},
   "outputs": [],
   "source": [
    "calcs['RR_em']      = (('age','time','lat','lon'),1/RR_val_em)\n",
    "calcs['RR_base']      = (('age','time','lat','lon'),1/RR_val_base)\n",
    "calcs['RR_diff']      = (('age','time','lat','lon'),(1/RR_val_base)-(1/RR_val_em))"
   ]
  },
  {
   "cell_type": "code",
   "execution_count": 96,
   "id": "a1b48280-0002-48af-a83e-6c42141600d0",
   "metadata": {},
   "outputs": [],
   "source": [
    "calcs.to_netcdf('/glade/derecho/scratch/cindywang625/RR/010.nc')\n"
   ]
  }
 ],
 "metadata": {
  "kernelspec": {
   "display_name": "Python 3 (ipykernel)",
   "language": "python",
   "name": "python3"
  },
  "language_info": {
   "codemirror_mode": {
    "name": "ipython",
    "version": 3
   },
   "file_extension": ".py",
   "mimetype": "text/x-python",
   "name": "python",
   "nbconvert_exporter": "python",
   "pygments_lexer": "ipython3",
   "version": "3.10.13"
  }
 },
 "nbformat": 4,
 "nbformat_minor": 5
}
