{
 "cells": [
  {
   "cell_type": "markdown",
   "id": "a304265e-d582-4e51-8308-a67ec9618a47",
   "metadata": {},
   "source": [
    "## Convert from deaths calculated for each grid to deaths by country"
   ]
  },
  {
   "cell_type": "code",
   "execution_count": 1,
   "id": "8f749208-909b-4417-9aba-d98d0764a1a3",
   "metadata": {},
   "outputs": [],
   "source": [
    "import geopandas as gpd\n",
    "import xarray as xr\n",
    "from cartopy import crs as ccrs\n",
    "import seaborn as sns; sns.set_theme()\n",
    "import os\n",
    "import fiona\n",
    "import country_converter as coco\n",
    "import dask\n",
    "import dask.array as da\n",
    "import netCDF4 as nc\n",
    "import regionmask\n",
    "from matplotlib import cm\n",
    "import numpy as np\n",
    "from matplotlib import pyplot as plt\n",
    "import country_converter as coco\n",
    "import pyogrio\n",
    "#pyogrio.set_gdal_config_options({\"SHAPE_RESTORE_SHX\": \"YES\"})\n",
    "import pandas as pd\n",
    "from cartopy.util import add_cyclic_point\n",
    "import nc_time_axis\n",
    "import glob\n",
    "import cdo\n",
    "import pandas as pd\n",
    "import cartopy.feature as cfeature\n"
   ]
  },
  {
   "cell_type": "code",
   "execution_count": 2,
   "id": "845c6e9b-9d8b-42f6-8939-ec49ce43d3e9",
   "metadata": {},
   "outputs": [],
   "source": [
    "import warnings\n",
    "warnings.filterwarnings('ignore')"
   ]
  },
  {
   "cell_type": "code",
   "execution_count": 3,
   "id": "358a24f6-a255-4b5a-93ee-c70587e0853d",
   "metadata": {
    "jupyter": {
     "source_hidden": true
    }
   },
   "outputs": [],
   "source": [
    "def global_mean_xarray(ds_XXLL):\n",
    "    \"\"\" \n",
    "    Compute the global mean value of the data.\n",
    "    The data has to have the lat and lon in its dimensions.\n",
    "    Should not include NaN in Inputs.\n",
    "    \n",
    "    Parameters\n",
    "    ----------\n",
    "    ds_XXLL   : xarray with lat and lon. ds_XXLL.lat will be \n",
    "                used for area weight.\n",
    "\n",
    "    Returns\n",
    "    ----------\n",
    "    tmp_XX    : xarray without lat and lon.\n",
    "    \n",
    "    \"\"\"\n",
    "    lat = ds_XXLL.coords['lat']        # readin lat\n",
    "    # global mean\n",
    "    # compute cos(lat) as a weight function\n",
    "    weight_lat = np.cos(np.deg2rad(lat))/np.mean(np.cos(np.deg2rad(lat)))\n",
    "    tmp_XXL = ds_XXLL.mean(dim=['lon'])*weight_lat\n",
    "    tmp_XX  = tmp_XXL.mean(dim=['lat'])\n",
    "    return tmp_XX\n",
    "\n",
    "def weighted_temporal_mean_l(ds, var=None):\n",
    "    \"\"\"\n",
    "    weight by days in each month\n",
    "    \"\"\"\n",
    "    #ds = xr.decode_cf(ds)\n",
    "    # Determine the month length\n",
    "    month_length = ds.time.dt.days_in_month\n",
    "\n",
    "    # Calculate the weights\n",
    "    wgts = month_length.groupby(\"time.year\") / month_length.groupby(\"time.year\").sum()\n",
    "\n",
    "    # Make sure the weights in each year add up to 1\n",
    "    np.testing.assert_allclose(wgts.groupby(\"time.year\").sum(xr.ALL_DIMS), 1.0)\n",
    "\n",
    "    # Subset our dataset for our variable\n",
    "    obs = ds if var is None else ds[var]\n",
    "\n",
    "    # Setup our masking for nan values\n",
    "    cond = obs.isnull()\n",
    "    ones = xr.where(cond, 0.0, 1.0)\n",
    "\n",
    "    # Calculate the numerator\n",
    "    obs_sum = (obs * wgts).resample(time=\"AS\").sum(dim=\"time\")\n",
    "\n",
    "    # Calculate the denominator\n",
    "    ones_out = (ones * wgts).resample(time=\"AS\").sum(dim=\"time\")\n",
    "\n",
    "    # Return the weighted average\n",
    "    return obs_sum / ones_out"
   ]
  },
  {
   "cell_type": "code",
   "execution_count": 4,
   "id": "f2296def-0a33-43f8-97e4-b4831e46233e",
   "metadata": {},
   "outputs": [],
   "source": [
    "# Gridded Population of the World, Version 4 (GPWv4): National Identifier Grid, Revision 11\n",
    "# can be downloaded from: https://www.earthdata.nasa.gov/data/catalog/sedac-ciesin-sedac-gpwv4-natiden-r11-4.11#:~:text=Description,use%20in%20aggregating%20population%20data.\n",
    "# cited as: Center For International Earth Science Information Network-CIESIN-Columbia University. (2018). Gridded Population of the World, Version 4 (GPWv4): National Identifier Grid, Revision 11 (Version 4.11) [Data set]. Palisades, NY: NASA Socioeconomic Data and Applications Center (SEDAC). https://doi.org/10.7927/H4TD9VDP\n",
    "shapefile_path = \"./gpw-v4-national-identifier-grid-rev11_15_min_asc/gpw_v4_national_identifier_grid_rev11_15_min.shp\"\n",
    "\n",
    "# Read the shapefile\n",
    "gdf = gpd.read_file(shapefile_path)\n",
    "#gdf_list = pd.read_csv(f'./Mortality_data/country_borders/gpw_new.csv')"
   ]
  },
  {
   "cell_type": "code",
   "execution_count": 6,
   "id": "36cdccb9-667c-4577-ac1b-ffdf3fb2161b",
   "metadata": {},
   "outputs": [],
   "source": [
    "mortality = pd.read_csv(f'./IFs/mortality_all_new.csv')\n",
    "\n",
    "#mortality = xr.open_mfdataset(f'/glade/derecho/scratch/cindywang625/BMR/*.nc', parallel=True, combine='nested', concat_dim='time')['mortality']\n",
    "mortality_cardio_female = xr.open_mfdataset(f'./bmr/Cardio/female/*.nc', parallel=True, combine='nested', concat_dim='time')['mortality']\n",
    "mortality_cardio_male = xr.open_mfdataset(f'./bmr/Cardio/male/*.nc', parallel=True, combine='nested', concat_dim='time')['mortality']\n",
    "\n",
    "mortality_resp_female = xr.open_mfdataset(f'./bmr/Resp/female/*.nc', parallel=True, combine='nested', concat_dim='time')['mortality']\n",
    "mortality_resp_male = xr.open_mfdataset(f'./bmr/Resp/male/*.nc', parallel=True, combine='nested', concat_dim='time')['mortality']\n",
    "\n",
    "#mortality_cardio = xr.open_mfdataset(f'/glade/derecho/scratch/cindywang625/BMR/for_o3/cardio/*.nc', parallel=True, combine='nested', concat_dim='time')['mortality']\n",
    "#mortality_resp = xr.open_mfdataset(f'/glade/derecho/scratch/cindywang625/BMR/for_o3/resp/*.nc', parallel=True, combine='nested', concat_dim='time')['mortality']\n",
    "\n",
    "#mortality_og = pd.read_csv(f'./Mortality_data/IFs/mortality_all_new.csv')\n",
    "\n",
    "#mortality per thousand\n",
    "demographic_female = xr.open_mfdataset(f'./demographic/countries/female_2020_demo_frac.nc')['demo_pop']\n",
    "demographic_male = xr.open_mfdataset(f'./demographic/countries/male_2020_demo_frac.nc')['demo_pop']\n",
    "\n",
    "#demographic = demographic.sum(\"age\")\n",
    "\n",
    "#used to make a mask\n",
    "population = xr.open_dataset(f'./population/SSP2/Total/NetCDF/ssp2_2020.nc')\n"
   ]
  },
  {
   "cell_type": "code",
   "execution_count": 7,
   "id": "c98ddee8-1e28-4b29-b3f4-0c27b2dc1b8a",
   "metadata": {},
   "outputs": [
    {
     "name": "stdout",
     "output_type": "stream",
     "text": [
      "(1117,)\n"
     ]
    }
   ],
   "source": [
    "#get country mask\n",
    "lon = population['lon']\n",
    "lat = population['lat']\n",
    "print(lat.shape)\n",
    "mask = regionmask.mask_3D_geopandas(gdf,lon,lat)"
   ]
  },
  {
   "cell_type": "code",
   "execution_count": 50,
   "id": "06cd34c1-7db4-4a68-910c-7df4458f2e83",
   "metadata": {},
   "outputs": [],
   "source": [
    "mortality_cardio['time'] = deaths_val['time'].values\n",
    "mortality_resp['time'] = deaths_val['time'].values"
   ]
  },
  {
   "cell_type": "markdown",
   "id": "6fbda662-0f30-478b-8478-b8999843b75c",
   "metadata": {},
   "source": [
    "### Calculating health impacts associated with air pollution (PM2.5)\n",
    "\n",
    "Calculate mortalities attributed to PM2.5 from noncommunicable diseases and lower respiratory infections (combined) based on epidemiological cohort studies of long-term exposure to PM2.5\n",
    "\n",
    "\\begin{equation}\n",
    "M = BMR \\times P \\times AF\n",
    "\\end{equation}\n",
    "\n",
    "- M = mortality due to PM2.5\n",
    "- BMR = baseline mortality rate\n",
    "- P = exposed population\n",
    "- AF = attributable factor"
   ]
  },
  {
   "cell_type": "code",
   "execution_count": 36,
   "id": "6e481757-38f3-4da2-98cb-dbcb0ada6da6",
   "metadata": {},
   "outputs": [],
   "source": [
    "#ensemble = '003'\n",
    "ensemble = '010'\n",
    "deaths_val = xr.open_mfdataset(f'./deaths_ozone/arise-sai-1.0/by_grid/{ensemble}.nc')['__xarray_dataarray_variable__']\n",
    "\n",
    "#arise_2035\n",
    "#arise_ssp\n",
    "#ssp_2035"
   ]
  },
  {
   "cell_type": "code",
   "execution_count": 37,
   "id": "4590de4e-d97e-40f1-9844-835b0b1f698f",
   "metadata": {},
   "outputs": [],
   "source": [
    "mortality_value = xr.DataArray(\n",
    "    np.full((35, len(gdf['ISOCODE'])), np.nan),\n",
    "    dims=[\"time\", \"country\"],\n",
    "    coords={\"time\": deaths_val.time, \"country\": gdf['ISOCODE']}\n",
    ")"
   ]
  },
  {
   "cell_type": "code",
   "execution_count": 38,
   "id": "94d261c8-8713-4785-bef6-fd645cea7507",
   "metadata": {},
   "outputs": [
    {
     "name": "stdout",
     "output_type": "stream",
     "text": [
      "Current j: 34"
     ]
    }
   ],
   "source": [
    "for j in range(35):\n",
    "    mortality_years = np.zeros((240))\n",
    "    print(f\"\\rCurrent j: {j}\", end=\"\", flush=True)\n",
    "    #year = 2035 + j\n",
    "    for i, country_code in enumerate(gdf['ISOCODE']):\n",
    "        #print(f\"\\rCurrent i: {i}\", end=\"\", flush=True)\n",
    "        if country_code not in ((set(mortality['ISO3']))):\n",
    "            mortality_years[i] = np.nan\n",
    "        else:\n",
    "            mortality_years[i] = deaths_val[j].where(mask[i] != 0 ).sum(dim=[\"lat\", \"lon\"], skipna=True)\n",
    "    mortality_value[j,:] = mortality_years"
   ]
  },
  {
   "cell_type": "code",
   "execution_count": 39,
   "id": "5edd97bd-87a5-4f22-9bc5-d248d83670ba",
   "metadata": {},
   "outputs": [],
   "source": [
    "mortality_value.to_netcdf(f'./deaths_ozone/arise-sai-1.0/by_country/{ensemble}.nc')\n",
    "\n"
   ]
  },
  {
   "cell_type": "code",
   "execution_count": null,
   "id": "ce8e986b-e558-42fd-826a-902a9aa31b09",
   "metadata": {
    "jupyter": {
     "source_hidden": true
    }
   },
   "outputs": [],
   "source": [
    "iso_set = set(mortality['ISO3'])  # Cache once\n",
    "\n",
    "for j in range(35):\n",
    "    print(f\"\\rCurrent j: {j}\", end=\"\", flush=True)\n",
    "    \n",
    "    # Preallocate with NaNs directly\n",
    "    mortality_years = np.full(240, np.nan, dtype=np.float32)\n",
    "\n",
    "    for i, country_code in enumerate(gdf['ISOCODE']):\n",
    "        if country_code in iso_set:\n",
    "            mortality_years[i] = deaths_val[j].where(mask[i] != 0).sum(dim=[\"lat\", \"lon\"], skipna=True)\n",
    "\n",
    "    mortality_value[j, :] = mortality_years\n"
   ]
  },
  {
   "cell_type": "code",
   "execution_count": null,
   "id": "f3009434-8b37-42a9-beca-c1932007eeb5",
   "metadata": {},
   "outputs": [],
   "source": []
  }
 ],
 "metadata": {
  "kernelspec": {
   "display_name": "Python 3 (ipykernel)",
   "language": "python",
   "name": "python3"
  },
  "language_info": {
   "codemirror_mode": {
    "name": "ipython",
    "version": 3
   },
   "file_extension": ".py",
   "mimetype": "text/x-python",
   "name": "python",
   "nbconvert_exporter": "python",
   "pygments_lexer": "ipython3",
   "version": "3.10.16"
  }
 },
 "nbformat": 4,
 "nbformat_minor": 5
}
