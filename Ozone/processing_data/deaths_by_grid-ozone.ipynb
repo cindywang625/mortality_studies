{
 "cells": [
  {
   "cell_type": "markdown",
   "id": "5ecaddcf-f845-4819-a425-9b771f7c5689",
   "metadata": {},
   "source": [
    "### Calculate deaths from PM2.5"
   ]
  },
  {
   "cell_type": "code",
   "execution_count": 1,
   "id": "2c86b84e-7e3a-4847-9abb-f44c6008ebaf",
   "metadata": {},
   "outputs": [],
   "source": [
    "import geopandas as gpd\n",
    "import xarray as xr\n",
    "from cartopy import crs as ccrs\n",
    "import seaborn as sns; sns.set_theme()\n",
    "import os\n",
    "import fiona\n",
    "import country_converter as coco\n",
    "import dask\n",
    "import dask.array as da\n",
    "import netCDF4 as nc\n",
    "import regionmask\n",
    "from matplotlib import cm\n",
    "import numpy as np\n",
    "from matplotlib import pyplot as plt\n",
    "import country_converter as coco\n",
    "import pyogrio\n",
    "#pyogrio.set_gdal_config_options({\"SHAPE_RESTORE_SHX\": \"YES\"})\n",
    "import pandas as pd\n",
    "from cartopy.util import add_cyclic_point\n",
    "import nc_time_axis\n",
    "import glob\n",
    "import cdo\n",
    "import pandas as pd\n",
    "import cartopy.feature as cfeature\n"
   ]
  },
  {
   "cell_type": "code",
   "execution_count": 2,
   "id": "05547fc4-b145-4cfa-81e1-2011dc1b5db6",
   "metadata": {},
   "outputs": [],
   "source": [
    "import warnings\n",
    "warnings.filterwarnings('ignore')"
   ]
  },
  {
   "cell_type": "code",
   "execution_count": 3,
   "id": "46ab2b0a-758b-4b54-bde4-90d95a267e54",
   "metadata": {},
   "outputs": [],
   "source": [
    "# Gridded Population of the World, Version 4 (GPWv4): National Identifier Grid, Revision 11\n",
    "# can be downloaded from: https://www.earthdata.nasa.gov/data/catalog/sedac-ciesin-sedac-gpwv4-natiden-r11-4.11#:~:text=Description,use%20in%20aggregating%20population%20data.\n",
    "# cited as: Center For International Earth Science Information Network-CIESIN-Columbia University. (2018). Gridded Population of the World, Version 4 (GPWv4): National Identifier Grid, Revision 11 (Version 4.11) [Data set]. Palisades, NY: NASA Socioeconomic Data and Applications Center (SEDAC). https://doi.org/10.7927/H4TD9VDP\n",
    "shapefile_path = \"./gpw-v4-national-identifier-grid-rev11_15_min_asc/gpw_v4_national_identifier_grid_rev11_15_min.shp\"\n",
    "\n",
    "# Read the shapefile\n",
    "gdf = gpd.read_file(shapefile_path)\n",
    "#gdf_list = pd.read_csv(f'./Mortality_data/country_borders/gpw_new.csv')"
   ]
  },
  {
   "cell_type": "code",
   "execution_count": 5,
   "id": "5ba47c08-a0d4-4bc0-ba40-d2eb83bb9ed9",
   "metadata": {},
   "outputs": [],
   "source": [
    "#mortality = xr.open_mfdataset(f'/glade/derecho/scratch/cindywang625/BMR/*.nc', parallel=True, combine='nested', concat_dim='time')['mortality']\n",
    "mortality_cardio_female = xr.open_mfdataset(f'./bmr/Cardio/female/*.nc', parallel=True, combine='nested', concat_dim='time')['mortality']\n",
    "mortality_cardio_male = xr.open_mfdataset(f'./bmr/Cardio/male/*.nc', parallel=True, combine='nested', concat_dim='time')['mortality']\n",
    "\n",
    "mortality_resp_female = xr.open_mfdataset(f'./bmr/Resp/female/*.nc', parallel=True, combine='nested', concat_dim='time')['mortality']\n",
    "mortality_resp_male = xr.open_mfdataset(f'./bmr/Resp/male/*.nc', parallel=True, combine='nested', concat_dim='time')['mortality']\n",
    "\n",
    "#mortality_cardio = xr.open_mfdataset(f'/glade/derecho/scratch/cindywang625/BMR/for_o3/cardio/*.nc', parallel=True, combine='nested', concat_dim='time')['mortality']\n",
    "#mortality_resp = xr.open_mfdataset(f'/glade/derecho/scratch/cindywang625/BMR/for_o3/resp/*.nc', parallel=True, combine='nested', concat_dim='time')['mortality']\n",
    "\n",
    "#mortality_og = pd.read_csv(f'./Mortality_data/IFs/mortality_all_new.csv')\n",
    "\n",
    "#mortality per thousand\n",
    "demographic_female = xr.open_mfdataset(f'./demographic/countries/female_2020_demo_frac.nc')['demo_pop']\n",
    "demographic_male = xr.open_mfdataset(f'./demographic/countries/male_2020_demo_frac.nc')['demo_pop']\n",
    "\n",
    "#demographic = demographic.sum(\"age\")\n",
    "\n",
    "#used to make a mask\n",
    "population = xr.open_dataset(f'./population/SSP2/Total/NetCDF/ssp2_2020.nc')\n"
   ]
  },
  {
   "cell_type": "code",
   "execution_count": 6,
   "id": "24eba2e1-20d1-4ca6-82db-647770259f12",
   "metadata": {},
   "outputs": [
    {
     "name": "stdout",
     "output_type": "stream",
     "text": [
      "(1117,)\n"
     ]
    }
   ],
   "source": [
    "#get country mask\n",
    "lon = population['lon']\n",
    "lat = population['lat']\n",
    "print(lat.shape)\n",
    "mask = regionmask.mask_3D_geopandas(gdf,lon,lat)"
   ]
  },
  {
   "cell_type": "code",
   "execution_count": 18,
   "id": "a9e9fa5c-d907-4276-be1a-c09490612cf2",
   "metadata": {
    "scrolled": true
   },
   "outputs": [],
   "source": [
    "mortality_cardio['time'] = AF_cardio_0['time'].values\n",
    "mortality_resp['time'] = AF_cardio_0['time'].values"
   ]
  },
  {
   "cell_type": "markdown",
   "id": "82e8baff-3410-4a2e-a5c2-68225f084365",
   "metadata": {},
   "source": [
    "### Calculating health impacts associated with air pollution (PM2.5)\n",
    "\n",
    "Calculate mortalities attributed to PM2.5 from noncommunicable diseases and lower respiratory infections (combined) based on epidemiological cohort studies of long-term exposure to PM2.5\n",
    "\n",
    "\\begin{equation}\n",
    "M = BMR \\times P \\times AF\n",
    "\\end{equation}\n",
    "\n",
    "- M = mortality due to PM2.5\n",
    "- BMR = baseline mortality rate\n",
    "- P = exposed population\n",
    "- AF = attributable factor"
   ]
  },
  {
   "cell_type": "code",
   "execution_count": 7,
   "id": "346825ff-6128-43a4-940c-33355cf4b8d4",
   "metadata": {},
   "outputs": [],
   "source": [
    "mortality_cardio = ((mortality_cardio_female* (demographic_female.values/1e3))+(mortality_cardio_male* (demographic_male.values/1e3)))\n",
    "mortality_resp = ((mortality_resp_female* (demographic_female.values/1e3))+(mortality_resp_male* (demographic_male.values/1e3)))\n",
    "\n",
    "mortality_cardio = mortality_cardio.sum(\"age\")\n",
    "mortality_resp = mortality_resp.sum(\"age\")"
   ]
  },
  {
   "cell_type": "code",
   "execution_count": 47,
   "id": "d291e5d4-0f25-4949-9e75-0c59b8b35caf",
   "metadata": {},
   "outputs": [],
   "source": [
    "ensemble = '010'#'010'\n",
    "\n",
    "AF_cardio = -xr.open_mfdataset(f'./RR_ozone/arise-sai-1.0/{ensemble}.nc')['RR_card_em'] + xr.open_mfdataset(f'./RR_ozone/ssp245/{ensemble}.nc')['RR_card_base'].mean(\"time\")\n",
    "AF_resp = -xr.open_mfdataset(f'./RR_ozone/arise-sai-1.0/{ensemble}.nc')['RR_resp_em'] + xr.open_mfdataset(f'./RR_ozone/ssp245/{ensemble}.nc')['RR_resp_base'].mean(\"time\")\n",
    "\n",
    "#AF_cardio = -xr.open_mfdataset(f'./Volumes/bkup_srm/SRM/RR_ozone/{ensemble}.nc')['RR_card_base'] + xr.open_mfdataset(f'/Volumes/bkup_srm/SRM/RR_ozone/ssp245/{ensemble}.nc')['RR_card_base'].mean(\"time\")\n",
    "#AF_resp = -xr.open_mfdataset(f'/Volumes/bkup_srm/SRM/RR_ozone/{ensemble}.nc')['RR_resp_base'] + xr.open_mfdataset(f'/Volumes/bkup_srm/SRM/RR_ozone/ssp245/{ensemble}.nc')['RR_resp_base'].mean(\"time\")\n",
    "\n",
    "#AF_cardio = 1-xr.open_mfdataset(f'./RR_ozone/arise-sai-1.0/{ensemble}.nc')['RR_card_base']#.mean(\"time\")# + xr.open_mfdataset(f'/glade/derecho/scratch/cindywang625/RR_ozone/{ensemble}.nc')['RR_card_base']#[0]\n",
    "#AF_resp = 1-xr.open_mfdataset(f'./RR_ozone/ssp245/{ensemble}.nc')['RR_resp_base']#.mean(\"time\")# + xr.open_mfdataset(f'/glade/derecho/scratch/cindywang625/RR_ozone/{ensemble}.nc')['RR_resp_base'][0]\n"
   ]
  },
  {
   "cell_type": "code",
   "execution_count": 48,
   "id": "2a89c29a-4945-49ac-97ba-f0d0d22789f4",
   "metadata": {},
   "outputs": [],
   "source": [
    "deaths = (AF_cardio* mortality_cardio[5:]) + (AF_resp* mortality_resp[5:])\n",
    "#AF  = (AF_cardio*mortality_cardio[:10])#+ (AF_resp*mortality_resp[:10])\n",
    "#AF  = (AF_cardio*mortality_cardio[:10].mean(\"time\"))+(AF_resp*mortality_resp[:10].mean(\"time\"))\n",
    "\n"
   ]
  },
  {
   "cell_type": "code",
   "execution_count": 49,
   "id": "8db5c834-be5c-4e45-8ec3-4f01bd07b738",
   "metadata": {},
   "outputs": [],
   "source": [
    "deaths_val = deaths.where(deaths != 0, np.nan)\n"
   ]
  },
  {
   "cell_type": "code",
   "execution_count": 50,
   "id": "42cb3432-6f3b-49da-b44f-226c50909dfd",
   "metadata": {},
   "outputs": [],
   "source": [
    "#ensemble = 'deaths_ensemble'\n",
    "deaths_val.to_netcdf(f'./deaths_ozone/arise-sai-1.0/by_grid/{ensemble}.nc')\n"
   ]
  },
  {
   "cell_type": "code",
   "execution_count": 41,
   "id": "394471e9-88ee-43b8-b790-360a9905eefd",
   "metadata": {},
   "outputs": [],
   "source": [
    "num_ensembles = 10\n",
    "for i in range(1, num_ensembles + 1):\n",
    "    ensemble = f'{i:03d}' \n",
    "    AF_cardio = 1-xr.open_mfdataset(f'/Volumes/bkup_srm/SRM/RR_ozone/{ensemble}.nc')['RR_card_base']#.mean(\"time\")# + xr.open_mfdataset(f'/glade/derecho/scratch/cindywang625/RR_ozone/{ensemble}.nc')['RR_card_base']#[0]\n",
    "    AF_resp = 1-xr.open_mfdataset(f'/Volumes/bkup_srm/SRM//RR_ozone/{ensemble}.nc')['RR_resp_base']#.mean(\"time\")# + xr.open_mfdataset(f'/glade/derecho/scratch/cindywang625/RR_ozone/{ensemble}.nc')['RR_resp_base'][0]\n",
    "    deaths = (AF_cardio* mortality_cardio[5:]) + (AF_resp* mortality_resp[5:])\n",
    "\n",
    "    deaths_val = deaths.where(deaths != 0, np.nan)\n",
    "    deaths_val.to_netcdf(f'/Volumes/bkup_srm/SRM/deaths_ozone/ssp245/by_grid/{ensemble}.nc')\n",
    "\n",
    "    "
   ]
  },
  {
   "cell_type": "code",
   "execution_count": null,
   "id": "00798172-d95e-4b0f-a900-d94979b15e91",
   "metadata": {},
   "outputs": [],
   "source": []
  },
  {
   "cell_type": "code",
   "execution_count": null,
   "id": "a968b440-5ca3-4234-9c2c-16c552ce5f55",
   "metadata": {},
   "outputs": [],
   "source": []
  }
 ],
 "metadata": {
  "kernelspec": {
   "display_name": "Python 3 (ipykernel)",
   "language": "python",
   "name": "python3"
  },
  "language_info": {
   "codemirror_mode": {
    "name": "ipython",
    "version": 3
   },
   "file_extension": ".py",
   "mimetype": "text/x-python",
   "name": "python",
   "nbconvert_exporter": "python",
   "pygments_lexer": "ipython3",
   "version": "3.10.16"
  }
 },
 "nbformat": 4,
 "nbformat_minor": 5
}
