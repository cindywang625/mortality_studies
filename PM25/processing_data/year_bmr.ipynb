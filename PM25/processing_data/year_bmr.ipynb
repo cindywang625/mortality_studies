{
 "cells": [
  {
   "cell_type": "markdown",
   "id": "39b1c573-9e2f-4bbb-b167-f134ab5b9ded",
   "metadata": {},
   "source": [
    "### Process BMR (IFS dataset) \n",
    "\n",
    "The IFS dataset provides the deaths/1000 people for each disease type, age group and country. This code processes it so that the deaths/1000 of a country is applied evenly to every grid cell for that specific country."
   ]
  },
  {
   "cell_type": "code",
   "execution_count": 1,
   "id": "eed67422-82f9-4364-9f25-13b6197de947",
   "metadata": {},
   "outputs": [],
   "source": [
    "import geopandas as gpd\n",
    "import xarray as xr\n",
    "from cartopy import crs as ccrs\n",
    "import seaborn as sns; sns.set_theme()\n",
    "import os\n",
    "import fiona\n",
    "import country_converter as coco\n",
    "import dask\n",
    "import dask.array as da\n",
    "import netCDF4 as nc\n",
    "import regionmask\n",
    "from matplotlib import cm\n",
    "import numpy as np\n",
    "from matplotlib import pyplot as plt\n",
    "import country_converter as coco\n",
    "import pyogrio\n",
    "#pyogrio.set_gdal_config_options({\"SHAPE_RESTORE_SHX\": \"YES\"})\n",
    "import pandas as pd\n",
    "from cartopy.util import add_cyclic_point\n",
    "import nc_time_axis\n",
    "import glob\n",
    "import cdo\n",
    "import pandas as pd\n",
    "import cartopy.feature as cfeature\n",
    "import plotly.express as px\n"
   ]
  },
  {
   "cell_type": "code",
   "execution_count": 2,
   "id": "6cd7d63e-d437-4fdb-a0b2-7be65819e8c8",
   "metadata": {},
   "outputs": [],
   "source": [
    "import warnings\n",
    "warnings.filterwarnings('ignore')"
   ]
  },
  {
   "cell_type": "code",
   "execution_count": 3,
   "id": "44650047-5b43-4e55-8630-c147054d27f6",
   "metadata": {},
   "outputs": [],
   "source": [
    "# Gridded Population of the World, Version 4 (GPWv4): National Identifier Grid, Revision 11\n",
    "# can be downloaded from: https://www.earthdata.nasa.gov/data/catalog/sedac-ciesin-sedac-gpwv4-natiden-r11-4.11#:~:text=Description,use%20in%20aggregating%20population%20data.\n",
    "# cited as: Center For International Earth Science Information Network-CIESIN-Columbia University. (2018). Gridded Population of the World, Version 4 (GPWv4): National Identifier Grid, Revision 11 (Version 4.11) [Data set]. Palisades, NY: NASA Socioeconomic Data and Applications Center (SEDAC). https://doi.org/10.7927/H4TD9VDP\n",
    "shapefile_path = \"./Mortality_data/country_borders/gpw_v4_national_identifier_grid_rev11_15_min.shp\"\n",
    "\n",
    "# Read the shapefile\n",
    "gdf = gpd.read_file(shapefile_path)\n",
    "gdf_list = pd.read_csv(f'./Mortality_data/country_borders/gpw_new.csv')"
   ]
  },
  {
   "cell_type": "code",
   "execution_count": 5,
   "id": "a318bea7-6a6b-4243-bd71-d28ff3c326f0",
   "metadata": {},
   "outputs": [],
   "source": [
    "# read in mortality data that has been verified\n",
    "\n",
    "mortality = pd.read_csv(f'./Mortality_data/IFs/mortality_all_new.csv')\n",
    "#mortality per thousand\n",
    "\n",
    "#used to make a mask\n",
    "population = xr.open_mfdataset(f'./Mortality_data/population/SSP2/Total/NetCDF/*.nc', parallel=True, combine='nested')\n"
   ]
  },
  {
   "cell_type": "code",
   "execution_count": 6,
   "id": "78c2c2c7-2df4-4b98-847b-ac4ce8c3b179",
   "metadata": {},
   "outputs": [
    {
     "name": "stdout",
     "output_type": "stream",
     "text": [
      "(1117,)\n"
     ]
    }
   ],
   "source": [
    "#get country mask\n",
    "lon = population['lon']\n",
    "lat = population['lat']\n",
    "print(lat.shape)\n",
    "mask = regionmask.mask_3D_geopandas(gdf,lon,lat)"
   ]
  },
  {
   "cell_type": "code",
   "execution_count": 7,
   "id": "730566d4-82f3-4b71-8a48-22181a3be178",
   "metadata": {
    "jupyter": {
     "source_hidden": true
    }
   },
   "outputs": [],
   "source": [
    "def global_mean_xarray(ds_XXLL):\n",
    "    \"\"\" \n",
    "    Compute the global mean value of the data.\n",
    "    The data has to have the lat and lon in its dimensions.\n",
    "    Should not include NaN in Inputs.\n",
    "    \n",
    "    Parameters\n",
    "    ----------\n",
    "    ds_XXLL   : xarray with lat and lon. ds_XXLL.lat will be \n",
    "                used for area weight.\n",
    "\n",
    "    Returns\n",
    "    ----------\n",
    "    tmp_XX    : xarray without lat and lon.\n",
    "    \n",
    "    \"\"\"\n",
    "    lat = ds_XXLL.coords['lat']        # readin lat\n",
    "    # global mean\n",
    "    # compute cos(lat) as a weight function\n",
    "    weight_lat = np.cos(np.deg2rad(lat))/np.mean(np.cos(np.deg2rad(lat)))\n",
    "    tmp_XXL = ds_XXLL.mean(dim=['lon'])*weight_lat\n",
    "    tmp_XX  = tmp_XXL.mean(dim=['lat'])\n",
    "    return tmp_XX\n",
    "\n",
    "def weighted_temporal_mean_l(ds, var=None):\n",
    "    \"\"\"\n",
    "    weight by days in each month\n",
    "    \"\"\"\n",
    "    #ds = xr.decode_cf(ds)\n",
    "    # Determine the month length\n",
    "    month_length = ds.time.dt.days_in_month\n",
    "\n",
    "    # Calculate the weights\n",
    "    wgts = month_length.groupby(\"time.year\") / month_length.groupby(\"time.year\").sum()\n",
    "\n",
    "    # Make sure the weights in each year add up to 1\n",
    "    np.testing.assert_allclose(wgts.groupby(\"time.year\").sum(xr.ALL_DIMS), 1.0)\n",
    "\n",
    "    # Subset our dataset for our variable\n",
    "    obs = ds if var is None else ds[var]\n",
    "\n",
    "    # Setup our masking for nan values\n",
    "    cond = obs.isnull()\n",
    "    ones = xr.where(cond, 0.0, 1.0)\n",
    "\n",
    "    # Calculate the numerator\n",
    "    obs_sum = (obs * wgts).resample(time=\"AS\").sum(dim=\"time\")\n",
    "\n",
    "    # Calculate the denominator\n",
    "    ones_out = (ones * wgts).resample(time=\"AS\").sum(dim=\"time\")\n",
    "\n",
    "    # Return the weighted average\n",
    "    return obs_sum / ones_out"
   ]
  },
  {
   "cell_type": "code",
   "execution_count": 8,
   "id": "b29c8fb7-c74b-4dcf-999d-59bfd0f2676b",
   "metadata": {},
   "outputs": [],
   "source": [
    "#PM2.5 calculations uses Non communicative disease + lower respiratory infections\n",
    "\n",
    "mortality['NCDS_total']= mortality['MortPerFeMalesNonComDis']+mortality['MortPerMalesNonComDis']\n",
    "mortality['LRIS_total'] = mortality['RespInfFemales'] + mortality['RespInfMales']\n",
    "mortality['NCDS+LRIS'] = mortality['LRIS_total'] + mortality['NCDS_total']"
   ]
  },
  {
   "cell_type": "markdown",
   "id": "3fb31d85-0d1c-4994-b552-51dc1127e6d4",
   "metadata": {},
   "source": [
    "### Reiterate for each year"
   ]
  },
  {
   "cell_type": "code",
   "execution_count": 9,
   "id": "93527327-365d-4382-9474-ba5a8bfe46d3",
   "metadata": {},
   "outputs": [],
   "source": [
    "# Select mortality data for specific year\n",
    "\n",
    "mortality_2020 = mortality[mortality['TimeId']==2070]"
   ]
  },
  {
   "cell_type": "code",
   "execution_count": 10,
   "id": "3b77482c-4887-4336-a8b8-dbb63976cbb6",
   "metadata": {},
   "outputs": [],
   "source": [
    "iso_to_mortality = mortality_2020[(mortality_2020['CohortId'] >= 6) & (mortality_2020['CohortId'] <= 17)].set_index('ISO3')['NCDS+LRIS']\n",
    "\n",
    "# Step 2: Map mask region indices to ISOCODEs\n",
    "region_to_iso = dict(enumerate(gdf_list['ISOCODE']))  # Assuming ordered list\n",
    "\n",
    "# Step 3: Create a mortality rate grid\n",
    "#mortality_grid = xr.full_like(PAF, np.nan)  # Initialize with NaNs\n",
    "#mortality_grid = np.zeros((12, C.lat.shape[0],C.lon.shape[0]))"
   ]
  },
  {
   "cell_type": "code",
   "execution_count": null,
   "id": "820227fc-fa33-4355-937a-edb6381fd247",
   "metadata": {},
   "outputs": [],
   "source": [
    "mortality_grid = {}\n",
    "\n",
    "# Loop through each region and corresponding ISO code\n",
    "for region, iso in region_to_iso.items():\n",
    "    if iso in iso_to_mortality:\n",
    "        # Extract mortality values for the current ISO code\n",
    "        iso_mortality_values = iso_to_mortality[iso].to_numpy()\n",
    "\n",
    "        # Reshape to (12, 1, 1) for broadcasting\n",
    "        iso_mortality_values = iso_mortality_values[:, np.newaxis, np.newaxis]\n",
    "        \n",
    "        # Broadcast to the desired shape (12, 1117, 2880)\n",
    "        iso_mortality_values = np.broadcast_to(iso_mortality_values, (12, 1117, 2880))\n",
    "\n",
    "        # Apply the mask for the current region and store the result in mortality_grid\n",
    "        mortality_grid[region] = (('age', 'lat', 'lon'), (iso_mortality_values * mask[region].to_numpy()[np.newaxis]))\n",
    "    else:\n",
    "        mortality_grid[region] = (('age', 'lat', 'lon'), np.full((12, 1117, 2880), np.nan))"
   ]
  },
  {
   "cell_type": "code",
   "execution_count": null,
   "id": "e5a33567-e26c-41af-a460-9b93a3bb2dc5",
   "metadata": {},
   "outputs": [],
   "source": [
    "mortality_arrays = []\n",
    "regions = []\n",
    "\n",
    "for region, (dims, data) in mortality_grid.items():\n",
    "    mortality_arrays.append(data)\n",
    "    regions.append(region)"
   ]
  },
  {
   "cell_type": "code",
   "execution_count": null,
   "id": "70040923-986a-4ab4-8cc5-0a98e350eb9e",
   "metadata": {},
   "outputs": [],
   "source": [
    "BMR = np.stack(mortality_arrays, axis=0)"
   ]
  },
  {
   "cell_type": "code",
   "execution_count": null,
   "id": "8fc4a813-afd4-4b61-8310-0a66e52cbea1",
   "metadata": {},
   "outputs": [],
   "source": [
    "ds = xr.Dataset(\n",
    "    {\n",
    "        \"mortality\": ((\"region\", \"age\", \"lat\", \"lon\"), BMR)\n",
    "    },\n",
    "    coords={\n",
    "        \"region\": regions,  # List of region names\n",
    "        \"age\": np.arange(12),  # Example: 12 age groups\n",
    "        \"lat\": C['lat'],  # Example: Latitude coordinates\n",
    "        \"lon\": C['lon'],  # Example: Longitude coordinates\n",
    "    }\n",
    ")"
   ]
  },
  {
   "cell_type": "code",
   "execution_count": null,
   "id": "f7986afb-e1f2-486e-8a9d-2c7c694e6e5f",
   "metadata": {},
   "outputs": [],
   "source": [
    "combined = ds['mortality'].fillna(0).sum(dim='region')"
   ]
  },
  {
   "cell_type": "code",
   "execution_count": null,
   "id": "773d6876-2b66-4c37-ae48-c5f8b21cdc14",
   "metadata": {},
   "outputs": [],
   "source": [
    "combined.to_netcdf(f'./processed/BMR/2070.nc')"
   ]
  },
  {
   "cell_type": "code",
   "execution_count": null,
   "id": "04dd8b3b-bf71-46f1-b2f6-37fce6d83e81",
   "metadata": {},
   "outputs": [],
   "source": []
  }
 ],
 "metadata": {
  "kernelspec": {
   "display_name": "Python 3 (ipykernel)",
   "language": "python",
   "name": "python3"
  },
  "language_info": {
   "codemirror_mode": {
    "name": "ipython",
    "version": 3
   },
   "file_extension": ".py",
   "mimetype": "text/x-python",
   "name": "python",
   "nbconvert_exporter": "python",
   "pygments_lexer": "ipython3",
   "version": "3.10.13"
  }
 },
 "nbformat": 4,
 "nbformat_minor": 5
}
